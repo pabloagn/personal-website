{
 "cells": [
  {
   "cell_type": "code",
   "execution_count": 1,
   "id": "9233146b-130a-49a0-91a6-b9d87921bb86",
   "metadata": {
    "tags": []
   },
   "outputs": [],
   "source": [
    "using CSV"
   ]
  },
  {
   "cell_type": "code",
   "execution_count": null,
   "id": "78cd82f2-c218-4098-978d-7494f8c8b859",
   "metadata": {},
   "outputs": [],
   "source": []
  }
 ],
 "metadata": {
  "kernelspec": {
   "display_name": "Julia 1.8.3",
   "language": "julia",
   "name": "julia-1.8"
  },
  "language_info": {
   "file_extension": ".jl",
   "mimetype": "application/julia",
   "name": "julia",
   "version": "1.8.3"
  }
 },
 "nbformat": 4,
 "nbformat_minor": 5
}
